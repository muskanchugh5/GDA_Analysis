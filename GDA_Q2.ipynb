{
  "nbformat": 4,
  "nbformat_minor": 0,
  "metadata": {
    "colab": {
      "name": "GDA.ipynb",
      "provenance": []
    },
    "kernelspec": {
      "name": "python3",
      "display_name": "Python 3"
    }
  },
  "cells": [
    {
      "cell_type": "code",
      "metadata": {
        "id": "i99HCJNNX_i7",
        "colab_type": "code",
        "colab": {}
      },
      "source": [
        "import pandas as pd\n",
        "import numpy as np\n",
        "from pylab import show,hist,subplot,figure\n",
        "import matplotlib.pyplot as plt\n"
      ],
      "execution_count": 0,
      "outputs": []
    },
    {
      "cell_type": "code",
      "metadata": {
        "id": "2wwqtQKiYOLi",
        "colab_type": "code",
        "colab": {
          "base_uri": "https://localhost:8080/",
          "height": 419
        },
        "outputId": "96c381ea-bfce-43b4-ecdf-35988ecbe8d4"
      },
      "source": [
        "dataset=pd.read_csv('microchip.csv')\n",
        "dataset = dataset.sample(frac=1).reset_index(drop=True)\n",
        "dataset"
      ],
      "execution_count": 7,
      "outputs": [
        {
          "output_type": "execute_result",
          "data": {
            "text/html": [
              "<div>\n",
              "<style scoped>\n",
              "    .dataframe tbody tr th:only-of-type {\n",
              "        vertical-align: middle;\n",
              "    }\n",
              "\n",
              "    .dataframe tbody tr th {\n",
              "        vertical-align: top;\n",
              "    }\n",
              "\n",
              "    .dataframe thead th {\n",
              "        text-align: right;\n",
              "    }\n",
              "</style>\n",
              "<table border=\"1\" class=\"dataframe\">\n",
              "  <thead>\n",
              "    <tr style=\"text-align: right;\">\n",
              "      <th></th>\n",
              "      <th>result1</th>\n",
              "      <th>result2</th>\n",
              "      <th>accepted</th>\n",
              "    </tr>\n",
              "  </thead>\n",
              "  <tbody>\n",
              "    <tr>\n",
              "      <th>0</th>\n",
              "      <td>-0.42108</td>\n",
              "      <td>-0.27266</td>\n",
              "      <td>1</td>\n",
              "    </tr>\n",
              "    <tr>\n",
              "      <th>1</th>\n",
              "      <td>-0.40380</td>\n",
              "      <td>0.70687</td>\n",
              "      <td>0</td>\n",
              "    </tr>\n",
              "    <tr>\n",
              "      <th>2</th>\n",
              "      <td>0.59274</td>\n",
              "      <td>-0.74050</td>\n",
              "      <td>0</td>\n",
              "    </tr>\n",
              "    <tr>\n",
              "      <th>3</th>\n",
              "      <td>-0.54781</td>\n",
              "      <td>0.70687</td>\n",
              "      <td>0</td>\n",
              "    </tr>\n",
              "    <tr>\n",
              "      <th>4</th>\n",
              "      <td>-0.40956</td>\n",
              "      <td>-0.41155</td>\n",
              "      <td>0</td>\n",
              "    </tr>\n",
              "    <tr>\n",
              "      <th>...</th>\n",
              "      <td>...</td>\n",
              "      <td>...</td>\n",
              "      <td>...</td>\n",
              "    </tr>\n",
              "    <tr>\n",
              "      <th>113</th>\n",
              "      <td>-0.48445</td>\n",
              "      <td>0.99927</td>\n",
              "      <td>0</td>\n",
              "    </tr>\n",
              "    <tr>\n",
              "      <th>114</th>\n",
              "      <td>-0.37500</td>\n",
              "      <td>0.50219</td>\n",
              "      <td>1</td>\n",
              "    </tr>\n",
              "    <tr>\n",
              "      <th>115</th>\n",
              "      <td>-0.75518</td>\n",
              "      <td>0.29020</td>\n",
              "      <td>0</td>\n",
              "    </tr>\n",
              "    <tr>\n",
              "      <th>116</th>\n",
              "      <td>0.85196</td>\n",
              "      <td>-0.36769</td>\n",
              "      <td>0</td>\n",
              "    </tr>\n",
              "    <tr>\n",
              "      <th>117</th>\n",
              "      <td>0.29896</td>\n",
              "      <td>0.61915</td>\n",
              "      <td>0</td>\n",
              "    </tr>\n",
              "  </tbody>\n",
              "</table>\n",
              "<p>118 rows × 3 columns</p>\n",
              "</div>"
            ],
            "text/plain": [
              "     result1  result2  accepted\n",
              "0   -0.42108 -0.27266         1\n",
              "1   -0.40380  0.70687         0\n",
              "2    0.59274 -0.74050         0\n",
              "3   -0.54781  0.70687         0\n",
              "4   -0.40956 -0.41155         0\n",
              "..       ...      ...       ...\n",
              "113 -0.48445  0.99927         0\n",
              "114 -0.37500  0.50219         1\n",
              "115 -0.75518  0.29020         0\n",
              "116  0.85196 -0.36769         0\n",
              "117  0.29896  0.61915         0\n",
              "\n",
              "[118 rows x 3 columns]"
            ]
          },
          "metadata": {
            "tags": []
          },
          "execution_count": 7
        }
      ]
    },
    {
      "cell_type": "code",
      "metadata": {
        "id": "4tPawLzKYhAp",
        "colab_type": "code",
        "colab": {}
      },
      "source": [
        "#covariance\n",
        "def findMean(dataX,dataY,Y):\n",
        "  count = 0\n",
        "  Mean = np.zeros((1,dataX.shape[1]))\n",
        "  for i in range(dataX.shape[0]):\n",
        "    if(dataY[i] == Y):\n",
        "      Mean[0,:]+=dataX[i]\n",
        "      count+=1\n",
        "  return Mean/(count)\n",
        "\n",
        "def findCov(dataX,dataY):\n",
        "  covariance = np.zeros((dataX.shape[1],dataX.shape[1]))\n",
        "  Mean0 = findMean(dataX,dataY,0)\n",
        "  Mean1 = findMean(dataX,dataY,1)\n",
        "  deviationFromMean = np.ndarray(shape = dataX.shape)\n",
        "  for i in range(dataX.shape[0]):\n",
        "    if(dataY[i] == 1):\n",
        "      deviationFromMean[i] = np.subtract(dataX[i],Mean1)\n",
        "    else:\n",
        "      deviationFromMean[i] = np.subtract(dataX[i],Mean0) \n",
        "  covariance =  (deviationFromMean.T@deviationFromMean)/dataX.shape[0]\n",
        "  return covariance"
      ],
      "execution_count": 0,
      "outputs": []
    },
    {
      "cell_type": "code",
      "metadata": {
        "id": "zU7J20pkYmtR",
        "colab_type": "code",
        "colab": {}
      },
      "source": [
        "def calc(sigma,x,y,GivenY,dataX,dataY):\n",
        "  invsigma = np.linalg.inv(sigma)\n",
        "  # print(x)\n",
        "  # print(findMean(dataX,dataY,GivenY))\n",
        "  MeanY=findMean(dataX,dataY,GivenY)\n",
        "  r = np.subtract(x,MeanY)\n",
        "  # print(r)\n",
        "  pi=3.14\n",
        "  dim=2\n",
        "  p = 1/np.sqrt(np.linalg.det(sigma)) * np.exp(-0.5*np.dot(np.dot(r,invsigma), r.T));\n",
        "  return p[0][0]\n",
        "\n",
        "##testing\n",
        "\n",
        "def test(trainX,trainY,testX,testY):\n",
        "  sigma = findCov(trainX,trainY)\n",
        "  P1=0\n",
        "  P0=0\n",
        "\n",
        "  for i in range(trainY.shape[0]):\n",
        "    if trainY[i]==1:\n",
        "      P1 += 1\n",
        "    else:\n",
        "      P0 += 1 \n",
        "  P1/=trainY.shape[0]\n",
        "  P0/=trainY.shape[0]\n",
        "  # print(P1,P0)\n",
        "  count =0\n",
        "\n",
        "  for i in range(testX.shape[0]):\n",
        "    p1= calc(sigma,testX[i],testY[i],1,trainX,trainY)\n",
        "    p0 = calc(sigma,testX[i],testY[i],0,trainX,trainY)\n",
        "    if((P1 * p1) >= (P0 * p0)):\n",
        "        out=1\n",
        "    else:\n",
        "        out=0\n",
        "    if(out==testY[i]):\n",
        "      count+=1\n",
        "  print(\"Accuracy on raw data= \"+str((count/testX.shape[0])*100))\n",
        "\n",
        "  "
      ],
      "execution_count": 0,
      "outputs": []
    },
    {
      "cell_type": "code",
      "metadata": {
        "id": "22KRymNAYVMR",
        "colab_type": "code",
        "colab": {}
      },
      "source": [
        "trainX = []\n",
        "trainY = []\n",
        "testX = []\n",
        "testY = []\n",
        "\n",
        "dataset\n",
        "for i in range(dataset.shape[0]):\n",
        "  if(i<0.70*dataset.shape[0]):\n",
        "    trainX.append([dataset.iloc[i,0],dataset.iloc[i,1]])\n",
        "    trainY.append(dataset.iloc[i,2])\n",
        "  else:\n",
        "    testX.append([dataset.iloc[i,0],dataset.iloc[i,1]])\n",
        "    testY.append(dataset.iloc[i,2])\n",
        "  \n",
        "trainX = np.asarray(trainX)\n",
        "trainY = np.asarray(trainY)\n",
        "testX = np.asarray(testX)\n",
        "testY = np.asarray(testY)"
      ],
      "execution_count": 0,
      "outputs": []
    },
    {
      "cell_type": "code",
      "metadata": {
        "id": "wjRD8GoUbkMb",
        "colab_type": "code",
        "colab": {
          "base_uri": "https://localhost:8080/",
          "height": 313
        },
        "outputId": "4afa7119-b5ce-4b82-a5a6-68ebfef62553"
      },
      "source": [
        "class_1_0 = []\n",
        "class_0_0 = []\n",
        "class_1_1 = []\n",
        "class_0_1 = []\n",
        "\n",
        "for i in range(trainX.shape[0]):\n",
        "  if(trainY[i]==1):\n",
        "    class_1_0.append(trainX[i][0])\n",
        "    class_1_1.append(trainX[i][1])\n",
        "  else:\n",
        "    class_0_0.append(trainX[i][0])\n",
        "    class_0_1.append(trainX[i][1])\n",
        "\n",
        "\n",
        "fig,ax = plt.subplots(2,2,constrained_layout=True)\n",
        "ax[0][0].hist(class_1_0) \n",
        "ax[0][0].set_title('class 1 Feature 0')\n",
        "ax[0][1].hist(class_1_1) \n",
        "ax[0][1].set_title('class 1 Feature 1')\n",
        "ax[1][0].hist(class_0_0) \n",
        "ax[1][0].set_title('class 0 Feature 0')\n",
        "ax[1][1].hist(class_0_1) \n",
        "ax[1][1].set_title('class 0 Feature 1')\n",
        "plt.show()"
      ],
      "execution_count": 32,
      "outputs": [
        {
          "output_type": "display_data",
          "data": {
            "image/png": "[encoded data removed]",
            "text/plain": [
              "<Figure size 432x288 with 4 Axes>"
            ]
          },
          "metadata": {
            "tags": []
          }
        }
      ]
    },
    {
      "cell_type": "code",
      "metadata": {
        "id": "OSnezhadYatg",
        "colab_type": "code",
        "colab": {
          "base_uri": "https://localhost:8080/",
          "height": 34
        },
        "outputId": "129c3764-097c-468e-983c-100663509f51"
      },
      "source": [
        "test(trainX,trainY,testX,testY)"
      ],
      "execution_count": 12,
      "outputs": [
        {
          "output_type": "stream",
          "text": [
            "Accuracy on raw data= 54.285714285714285\n"
          ],
          "name": "stdout"
        }
      ]
    }
  ]
}