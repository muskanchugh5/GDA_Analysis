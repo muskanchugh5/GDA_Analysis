{
  "nbformat": 4,
  "nbformat_minor": 0,
  "metadata": {
    "colab": {
      "name": "GDA_BM.ipynb",
      "provenance": [],
      "collapsed_sections": []
    },
    "kernelspec": {
      "name": "python3",
      "display_name": "Python 3"
    }
  },
  "cells": [
    {
      "cell_type": "code",
      "metadata": {
        "id": "qB2D4lfZloJ7",
        "colab_type": "code",
        "colab": {}
      },
      "source": [
        "import pandas as pd\n",
        "import numpy as np "
      ],
      "execution_count": 0,
      "outputs": []
    },
    {
      "cell_type": "code",
      "metadata": {
        "id": "ih1mYRIPlKCo",
        "colab_type": "code",
        "outputId": "32652c70-b15f-4d25-b21a-b1a00fc6615a",
        "colab": {
          "base_uri": "https://localhost:8080/",
          "height": 419
        }
      },
      "source": [
        "dataset=pd.read_csv('microchip.csv')\n",
        "dataset = dataset.sample(frac=1).reset_index(drop=True)\n",
        "dataset"
      ],
      "execution_count": 24,
      "outputs": [
        {
          "output_type": "execute_result",
          "data": {
            "text/html": [
              "<div>\n",
              "<style scoped>\n",
              "    .dataframe tbody tr th:only-of-type {\n",
              "        vertical-align: middle;\n",
              "    }\n",
              "\n",
              "    .dataframe tbody tr th {\n",
              "        vertical-align: top;\n",
              "    }\n",
              "\n",
              "    .dataframe thead th {\n",
              "        text-align: right;\n",
              "    }\n",
              "</style>\n",
              "<table border=\"1\" class=\"dataframe\">\n",
              "  <thead>\n",
              "    <tr style=\"text-align: right;\">\n",
              "      <th></th>\n",
              "      <th>result1</th>\n",
              "      <th>result2</th>\n",
              "      <th>accepted</th>\n",
              "    </tr>\n",
              "  </thead>\n",
              "  <tbody>\n",
              "    <tr>\n",
              "      <th>0</th>\n",
              "      <td>-0.697580</td>\n",
              "      <td>0.684940</td>\n",
              "      <td>0</td>\n",
              "    </tr>\n",
              "    <tr>\n",
              "      <th>1</th>\n",
              "      <td>0.961410</td>\n",
              "      <td>0.085526</td>\n",
              "      <td>0</td>\n",
              "    </tr>\n",
              "    <tr>\n",
              "      <th>2</th>\n",
              "      <td>-0.611180</td>\n",
              "      <td>-0.067982</td>\n",
              "      <td>0</td>\n",
              "    </tr>\n",
              "    <tr>\n",
              "      <th>3</th>\n",
              "      <td>0.483290</td>\n",
              "      <td>-0.184940</td>\n",
              "      <td>1</td>\n",
              "    </tr>\n",
              "    <tr>\n",
              "      <th>4</th>\n",
              "      <td>0.149190</td>\n",
              "      <td>-0.579680</td>\n",
              "      <td>0</td>\n",
              "    </tr>\n",
              "    <tr>\n",
              "      <th>...</th>\n",
              "      <td>...</td>\n",
              "      <td>...</td>\n",
              "      <td>...</td>\n",
              "    </tr>\n",
              "    <tr>\n",
              "      <th>113</th>\n",
              "      <td>0.016705</td>\n",
              "      <td>-0.404240</td>\n",
              "      <td>1</td>\n",
              "    </tr>\n",
              "    <tr>\n",
              "      <th>114</th>\n",
              "      <td>-0.467170</td>\n",
              "      <td>-0.133770</td>\n",
              "      <td>0</td>\n",
              "    </tr>\n",
              "    <tr>\n",
              "      <th>115</th>\n",
              "      <td>-0.392280</td>\n",
              "      <td>-0.258040</td>\n",
              "      <td>0</td>\n",
              "    </tr>\n",
              "    <tr>\n",
              "      <th>116</th>\n",
              "      <td>-0.375000</td>\n",
              "      <td>0.502190</td>\n",
              "      <td>1</td>\n",
              "    </tr>\n",
              "    <tr>\n",
              "      <th>117</th>\n",
              "      <td>0.863480</td>\n",
              "      <td>-0.082602</td>\n",
              "      <td>0</td>\n",
              "    </tr>\n",
              "  </tbody>\n",
              "</table>\n",
              "<p>118 rows × 3 columns</p>\n",
              "</div>"
            ],
            "text/plain": [
              "      result1   result2  accepted\n",
              "0   -0.697580  0.684940         0\n",
              "1    0.961410  0.085526         0\n",
              "2   -0.611180 -0.067982         0\n",
              "3    0.483290 -0.184940         1\n",
              "4    0.149190 -0.579680         0\n",
              "..        ...       ...       ...\n",
              "113  0.016705 -0.404240         1\n",
              "114 -0.467170 -0.133770         0\n",
              "115 -0.392280 -0.258040         0\n",
              "116 -0.375000  0.502190         1\n",
              "117  0.863480 -0.082602         0\n",
              "\n",
              "[118 rows x 3 columns]"
            ]
          },
          "metadata": {
            "tags": []
          },
          "execution_count": 24
        }
      ]
    },
    {
      "cell_type": "code",
      "metadata": {
        "id": "94vifWe3moGe",
        "colab_type": "code",
        "colab": {}
      },
      "source": [
        "##BM ALGO\n",
        "from numpy import random, sqrt, log, sin, cos, pi,square\n",
        "from pylab import show,hist,subplot,figure\n"
      ],
      "execution_count": 0,
      "outputs": []
    },
    {
      "cell_type": "code",
      "metadata": {
        "id": "_WyLDKlFpCOR",
        "colab_type": "code",
        "outputId": "c1d9baa0-dcdd-40b3-fa3f-3c4eb3bda7e2",
        "colab": {
          "base_uri": "https://localhost:8080/",
          "height": 265
        }
      },
      "source": [
        "def gaussian(u1,u2):\n",
        "  z1 = sqrt(-2*log(u1))*cos(2*pi*u2)\n",
        "  z2 = sqrt(-2*log(u1))*sin(2*pi*u2)+2\n",
        "  return z1,z2\n",
        "\n",
        "\n",
        "    # z1 = np.sqrt(-2 * np.log(u1)) * np.cos(2 * pi * u2)\n",
        "    # z2 = np.sqrt(-2 * np.log(u1)) * np.sin(2 * pi * u2)+2\n",
        "\n",
        "# uniformly distributed values between 0 and 1\n",
        "u1 = np.random.rand(1000)\n",
        "u2 = np.random.rand(1000)\n",
        "\n",
        "# run the transformation\n",
        "z1,z2 = gaussian(u1,u2)\n",
        "\n",
        "# plotting the values before and after the transformation\n",
        "figure()\n",
        "subplot(221) # the first row of graphs\n",
        "hist(u1)     # contains the histograms of u1 and u2 \n",
        "subplot(222)\n",
        "hist(u2)\n",
        "subplot(223) # the second contains\n",
        "hist(z1)     # the histograms of z1 and z2\n",
        "subplot(224)\n",
        "hist(z2)\n",
        "\n",
        "\n",
        "show()\n",
        "\n",
        "\n"
      ],
      "execution_count": 84,
      "outputs": [
        {
          "output_type": "display_data",
          "data": {
            "image/png": "[encoded data removed]",
            "text/plain": [
              "<Figure size 432x288 with 4 Axes>"
            ]
          },
          "metadata": {
            "tags": []
          }
        }
      ]
    },
    {
      "cell_type": "code",
      "metadata": {
        "id": "Jk7kmuYWXjaB",
        "colab_type": "code",
        "outputId": "5ab136a6-b1f5-4829-f21d-6e1c34d56779",
        "colab": {
          "base_uri": "https://localhost:8080/",
          "height": 281
        }
      },
      "source": [
        "trainX = []\n",
        "trainY = []\n",
        "testX = []\n",
        "testY = []\n",
        "\n",
        "\n",
        "x1=[]\n",
        "x2=[]\n",
        "class_1=[]\n",
        "class_0=[]\n",
        "for i in range(dataset.shape[0]):\n",
        "  if dataset.iloc[i,2]==1:\n",
        "      x1.append(random.choice(z2))\n",
        "      x2.append(random.choice(z2))\n",
        "      # class_1.append()\n",
        "  else:\n",
        "      x1.append(random.choice(z1))\n",
        "      x2.append(random.choice(z1))\n",
        "\n",
        "for i in range(dataset.shape[0]):\n",
        "  if(i<0.70*dataset.shape[0]):\n",
        "    trainX.append([x1[i],x2[i]])\n",
        "    trainY.append(dataset.iloc[i,2])\n",
        "  else:\n",
        "    testX.append([x1[i],x2[i]])\n",
        "    testY.append(dataset.iloc[i,2])\n",
        "\n",
        "X_new = np.c_[z1, z2]\n",
        "hist(X_new)\n",
        "plt.title(\"data for class1 and class2\")\n",
        "\n",
        "trainX = np.asarray(trainX)\n",
        "trainY = np.asarray(trainY)\n",
        "testX = np.asarray(testX)\n",
        "testY = np.asarray(testY)\n"
      ],
      "execution_count": 109,
      "outputs": [
        {
          "output_type": "display_data",
          "data": {
            "image/png": "[encoded data removed]",
            "text/plain": [
              "<Figure size 432x288 with 1 Axes>"
            ]
          },
          "metadata": {
            "tags": []
          }
        }
      ]
    },
    {
      "cell_type": "code",
      "metadata": {
        "id": "J8AHiDWNippy",
        "colab_type": "code",
        "colab": {
          "base_uri": "https://localhost:8080/",
          "height": 313
        },
        "outputId": "4f3ceea6-5ad4-48b9-dff1-cf26eec2e127"
      },
      "source": [
        "class_1_0 = []\n",
        "class_0_0 = []\n",
        "class_1_1 = []\n",
        "class_0_1 = []\n",
        "\n",
        "for i in range(trainX.shape[0]):\n",
        "  if(trainY[i]==1):\n",
        "    class_1_0.append(trainX[i][0])\n",
        "    class_1_1.append(trainX[i][1])\n",
        "  else:\n",
        "    class_0_0.append(trainX[i][0])\n",
        "    class_0_1.append(trainX[i][1])\n",
        "\n",
        "\n",
        "fig,ax = plt.subplots(2,2,constrained_layout=True)\n",
        "ax[0][0].hist(class_1_0) \n",
        "ax[0][0].set_title('class 1 Feature 0')\n",
        "ax[0][1].hist(class_1_1) \n",
        "ax[0][1].set_title('class 1 Feature 1')\n",
        "ax[1][0].hist(class_0_0) \n",
        "ax[1][0].set_title('class 0 Feature 0')\n",
        "ax[1][1].hist(class_0_1) \n",
        "ax[1][1].set_title('class 0 Feature 1')\n",
        "\n",
        "plt.show()"
      ],
      "execution_count": 110,
      "outputs": [
        {
          "output_type": "display_data",
          "data": {
            "image/png": "[encoded data removed]",
            "text/plain": [
              "<Figure size 432x288 with 4 Axes>"
            ]
          },
          "metadata": {
            "tags": []
          }
        }
      ]
    },
    {
      "cell_type": "code",
      "metadata": {
        "id": "q00iCdtBZTWn",
        "colab_type": "code",
        "colab": {}
      },
      "source": [
        "\n",
        "#covariance \n",
        "\n",
        "def findMean(dataX,dataY,Y):\n",
        "  count = 0\n",
        "  Mean = np.zeros((1,dataX.shape[1]))\n",
        "  for i in range(dataX.shape[0]):\n",
        "    if(dataY[i] == Y):\n",
        "      Mean[0,:]+=dataX[i]\n",
        "      count+=1\n",
        "  return Mean/(count)\n",
        "\n",
        "\n",
        "def findCov(dataX,dataY):\n",
        "  covariance = np.zeros((dataX.shape[1],dataX.shape[1]))\n",
        "  Mean0 = findMean(dataX,dataY,0)\n",
        "  Mean1 = findMean(dataX,dataY,1)\n",
        "  deviationFromMean = np.ndarray(shape = dataX.shape)\n",
        "  for i in range(dataX.shape[0]):\n",
        "    if(dataY[i] == 1):\n",
        "      deviationFromMean[i] = np.subtract(dataX[i],Mean1)\n",
        "    else:\n",
        "      deviationFromMean[i] = np.subtract(dataX[i],Mean0) \n",
        "  covariance =  (deviationFromMean.T@deviationFromMean)/dataX.shape[0]\n",
        "  return covariance\n",
        "  "
      ],
      "execution_count": 0,
      "outputs": []
    },
    {
      "cell_type": "code",
      "metadata": {
        "id": "IGIQobWl2eKy",
        "colab_type": "code",
        "colab": {}
      },
      "source": [
        "def calc(sigma,x,y,GivenY,dataX,dataY):\n",
        "\n",
        "  invsigma = np.linalg.inv(sigma)\n",
        "  # print(x)\n",
        "  # print(findMean(dataX,dataY,GivenY))\n",
        "  MeanY=findMean(dataX,dataY,GivenY)\n",
        "  r = np.subtract(x,MeanY)\n",
        "  # print(r)\n",
        "  pi=3.14\n",
        "  dim=2\n",
        "  p = 1/np.sqrt(np.linalg.det(sigma)) * np.exp(-0.5*np.dot(np.dot(r,invsigma), r.T));\n",
        "  return p[0][0]\n",
        "\n",
        "##testing\n",
        "\n",
        "def test(trainX,trainY,testX,testY):\n",
        "\n",
        "  sigma = findCov(trainX,trainY)\n",
        "  P1=0\n",
        "  P0=0\n",
        "\n",
        "  for i in range(trainY.shape[0]):\n",
        "    if trainY[i]==1:\n",
        "      P1 += 1\n",
        "    else:\n",
        "      P0 += 1 \n",
        "  P1/=trainY.shape[0]\n",
        "  P0/=trainY.shape[0]\n",
        "  # print(P1,P0)\n",
        "  count =0\n",
        "\n",
        "  for i in range(testX.shape[0]):\n",
        "    p1= calc(sigma,testX[i],testY[i],1,trainX,trainY)\n",
        "    p0 = calc(sigma,testX[i],testY[i],0,trainX,trainY)\n",
        "    if((P1 * p1) >= (P0 * p0)):\n",
        "        out=1\n",
        "    else:\n",
        "        out=0\n",
        "    if(out==testY[i]):\n",
        "      count+=1\n",
        "  print(\"Accuracy using Bux Muller = \"+str((count/testX.shape[0])*100))\n",
        "\n",
        "  \n",
        " \n"
      ],
      "execution_count": 0,
      "outputs": []
    },
    {
      "cell_type": "code",
      "metadata": {
        "id": "zM4HZqYTtkYR",
        "colab_type": "code",
        "colab": {
          "base_uri": "https://localhost:8080/",
          "height": 34
        },
        "outputId": "3cd285e5-597e-4f0b-f95d-1bfe2b76d781"
      },
      "source": [
        "test(trainX,trainY,testX,testY)"
      ],
      "execution_count": 108,
      "outputs": [
        {
          "output_type": "stream",
          "text": [
            "Accuracy using Bux Muller = 94.28571428571428\n"
          ],
          "name": "stdout"
        }
      ]
    }
  ]
}